{
  "nbformat": 4,
  "nbformat_minor": 0,
  "metadata": {
    "colab": {
      "name": "Filter Function.ipynb",
      "provenance": [],
      "collapsed_sections": []
    },
    "kernelspec": {
      "name": "python3",
      "display_name": "Python 3"
    },
    "language_info": {
      "name": "python"
    }
  },
  "cells": [
    {
      "cell_type": "markdown",
      "source": [
        "Use filter() function and filter out the the words that starts with 'S'"
      ],
      "metadata": {
        "id": "Ur2ADZW9x2hU"
      }
    },
    {
      "cell_type": "code",
      "execution_count": 2,
      "metadata": {
        "colab": {
          "base_uri": "https://localhost:8080/"
        },
        "id": "hr046-JRxwAi",
        "outputId": "a3bdbd2b-4bc4-4504-808d-99d135cf3780"
      },
      "outputs": [
        {
          "output_type": "execute_result",
          "data": {
            "text/plain": [
              "['soup', 'salad']"
            ]
          },
          "metadata": {},
          "execution_count": 2
        }
      ],
      "source": [
        "seq = ['soup','dog','salad','cat']\n",
        "list(filter(lambda word: word[0] == 's',seq))"
      ]
    }
  ]
}