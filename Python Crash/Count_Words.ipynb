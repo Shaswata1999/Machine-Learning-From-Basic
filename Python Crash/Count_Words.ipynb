{
  "nbformat": 4,
  "nbformat_minor": 0,
  "metadata": {
    "colab": {
      "name": "Count Words.ipynb",
      "provenance": []
    },
    "kernelspec": {
      "name": "python3",
      "display_name": "Python 3"
    },
    "language_info": {
      "name": "python"
    }
  },
  "cells": [
    {
      "cell_type": "markdown",
      "source": [
        "Create a function that counts the number of 'dog' presnt in the string : \"This dog runs faster than the other dogs\""
      ],
      "metadata": {
        "id": "nP6yg4yQva7w"
      }
    },
    {
      "cell_type": "code",
      "execution_count": 9,
      "metadata": {
        "colab": {
          "base_uri": "https://localhost:8080/"
        },
        "id": "hz0rImrpvBWY",
        "outputId": "5e36771b-744c-44ea-c58e-0d2325d4a246"
      },
      "outputs": [
        {
          "output_type": "execute_result",
          "data": {
            "text/plain": [
              "2"
            ]
          },
          "metadata": {},
          "execution_count": 9
        }
      ],
      "source": [
        "def countWord(s):\n",
        "  count = 0\n",
        "  for words in s.lower().split():\n",
        "    if words == 'dog':\n",
        "      count += 1\n",
        "  return count\n",
        "\n",
        "countWord('This dog runs faster than the other dog')"
      ]
    }
  ]
}