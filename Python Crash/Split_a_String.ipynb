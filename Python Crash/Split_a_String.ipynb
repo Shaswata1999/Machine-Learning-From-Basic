{
  "nbformat": 4,
  "nbformat_minor": 0,
  "metadata": {
    "colab": {
      "name": "Split a String.ipynb",
      "provenance": []
    },
    "kernelspec": {
      "name": "python3",
      "display_name": "Python 3"
    },
    "language_info": {
      "name": "python"
    }
  },
  "cells": [
    {
      "cell_type": "markdown",
      "source": [
        "# **Split this string**\n",
        " \"Hi there Sam!\""
      ],
      "metadata": {
        "id": "CbKm9qb8jx5x"
      }
    },
    {
      "cell_type": "code",
      "execution_count": 1,
      "metadata": {
        "colab": {
          "base_uri": "https://localhost:8080/"
        },
        "id": "ULM1eD8Kjw6c",
        "outputId": "3b8524d6-d4ad-4fe3-9544-4ed6220c7c5d"
      },
      "outputs": [
        {
          "output_type": "execute_result",
          "data": {
            "text/plain": [
              "['Hi', 'there', 'Sam']"
            ]
          },
          "metadata": {},
          "execution_count": 1
        }
      ],
      "source": [
        "s = \"Hi there Sam\"\n",
        "s.split()"
      ]
    }
  ]
}