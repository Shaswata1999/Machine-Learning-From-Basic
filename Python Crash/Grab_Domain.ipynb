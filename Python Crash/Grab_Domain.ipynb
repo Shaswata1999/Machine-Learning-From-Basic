{
  "nbformat": 4,
  "nbformat_minor": 0,
  "metadata": {
    "colab": {
      "name": "Grab Domain.ipynb",
      "provenance": []
    },
    "kernelspec": {
      "name": "python3",
      "display_name": "Python 3"
    },
    "language_info": {
      "name": "python"
    }
  },
  "cells": [
    {
      "cell_type": "markdown",
      "source": [
        "Create a function that grab the email website domain from a string in the form:\n",
        "    user@domain.com\n",
        "\n",
        "Output: domain.com"
      ],
      "metadata": {
        "id": "F687pM2crlGc"
      }
    },
    {
      "cell_type": "code",
      "execution_count": 3,
      "metadata": {
        "colab": {
          "base_uri": "https://localhost:8080/",
          "height": 35
        },
        "id": "nYo8VtTbrK37",
        "outputId": "c918cf59-9731-49d0-a224-e42c75a903ba"
      },
      "outputs": [
        {
          "output_type": "execute_result",
          "data": {
            "application/vnd.google.colaboratory.intrinsic+json": {
              "type": "string"
            },
            "text/plain": [
              "'domain.com'"
            ]
          },
          "metadata": {},
          "execution_count": 3
        }
      ],
      "source": [
        "def domainGet(email):\n",
        "  return email.split('@')[1]\n",
        "\n",
        "domainGet('user@domain.com')"
      ]
    }
  ]
}