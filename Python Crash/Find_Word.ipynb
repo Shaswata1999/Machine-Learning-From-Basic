{
  "nbformat": 4,
  "nbformat_minor": 0,
  "metadata": {
    "colab": {
      "name": "Find Word.ipynb",
      "provenance": []
    },
    "kernelspec": {
      "name": "python3",
      "display_name": "Python 3"
    },
    "language_info": {
      "name": "python"
    }
  },
  "cells": [
    {
      "cell_type": "markdown",
      "source": [
        "Create a basic function that returns True if the word 'dog' is contain in the input string."
      ],
      "metadata": {
        "id": "a8KqbgUjtg43"
      }
    },
    {
      "cell_type": "code",
      "execution_count": 4,
      "metadata": {
        "colab": {
          "base_uri": "https://localhost:8080/"
        },
        "id": "3If_fgdytcXN",
        "outputId": "51ab9fa7-9186-4438-f31b-5fa9265dd7f6"
      },
      "outputs": [
        {
          "output_type": "execute_result",
          "data": {
            "text/plain": [
              "True"
            ]
          },
          "metadata": {},
          "execution_count": 4
        }
      ],
      "source": [
        "def findword(s):\n",
        "  return 'dog' in s\n",
        "\n",
        "findword('Is there any dog')"
      ]
    }
  ]
}