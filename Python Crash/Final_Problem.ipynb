{
  "nbformat": 4,
  "nbformat_minor": 0,
  "metadata": {
    "colab": {
      "name": "Final Problem.ipynb",
      "provenance": []
    },
    "kernelspec": {
      "name": "python3",
      "display_name": "Python 3"
    },
    "language_info": {
      "name": "python"
    }
  },
  "cells": [
    {
      "cell_type": "markdown",
      "source": [
        "# **Final problem**\n",
        "\n",
        "You are driving a little too fast and police officer stops you. Write a function to return one of 3 possible results:\"No Ticket\",\"Small Ticket\",or \"Big Ticket\". If your speed is 60 or less, the result is \"No Ticket\".If your speed is between 61 and 80 inclusive, the result is \"Small Ticket\".If your speed is between 81 or more, the result is \"Big Ticket\".Unless it is ypur birthday (encoded as a boolean value in parameters of the function) -- on your birthday, your speed can be 5 higher in all cases."
      ],
      "metadata": {
        "id": "j6P_RBCt1PVr"
      }
    },
    {
      "cell_type": "code",
      "execution_count": 6,
      "metadata": {
        "id": "TL1brt0F1N8e"
      },
      "outputs": [],
      "source": [
        "def cought_speeding(speed, is_birthday):\n",
        "  if is_birthday:\n",
        "    speeding = speed-5\n",
        "  else:\n",
        "    speeding = speed\n",
        "\n",
        "  if speeding>80:\n",
        "    return 'Big Ticket'\n",
        "  elif speeding>60 & speeding<81:\n",
        "    return 'Small Ticket'\n",
        "  else:\n",
        "    return 'No Ticket'"
      ]
    },
    {
      "cell_type": "code",
      "source": [
        "cought_speeding(83,True)"
      ],
      "metadata": {
        "colab": {
          "base_uri": "https://localhost:8080/",
          "height": 35
        },
        "id": "vvZVRJe14JxK",
        "outputId": "17dc10cf-8dff-414c-818a-6f8c948a61d0"
      },
      "execution_count": 4,
      "outputs": [
        {
          "output_type": "execute_result",
          "data": {
            "application/vnd.google.colaboratory.intrinsic+json": {
              "type": "string"
            },
            "text/plain": [
              "'Small Ticket'"
            ]
          },
          "metadata": {},
          "execution_count": 4
        }
      ]
    },
    {
      "cell_type": "code",
      "source": [
        "cought_speeding(83,False)"
      ],
      "metadata": {
        "colab": {
          "base_uri": "https://localhost:8080/",
          "height": 35
        },
        "id": "YdSZhxcP4dJv",
        "outputId": "e5aeab67-873d-4b1d-ba74-e221840930dd"
      },
      "execution_count": 5,
      "outputs": [
        {
          "output_type": "execute_result",
          "data": {
            "application/vnd.google.colaboratory.intrinsic+json": {
              "type": "string"
            },
            "text/plain": [
              "'Big Ticket'"
            ]
          },
          "metadata": {},
          "execution_count": 5
        }
      ]
    }
  ]
}