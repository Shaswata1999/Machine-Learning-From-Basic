{
  "nbformat": 4,
  "nbformat_minor": 0,
  "metadata": {
    "colab": {
      "name": "Use of format Method.ipynb",
      "provenance": []
    },
    "kernelspec": {
      "name": "python3",
      "display_name": "Python 3"
    },
    "language_info": {
      "name": "python"
    }
  },
  "cells": [
    {
      "cell_type": "markdown",
      "source": [
        " **Given the variables:**\n",
        "\n",
        "    planet = \"Earth\"\n",
        "    diameter = 12742\n",
        "\n",
        " **Use .format() to print following string:**\n",
        "\n",
        "    \"The diameter of Earth is 12742 kilometer\""
      ],
      "metadata": {
        "id": "sCX8Dqu6lwac"
      }
    },
    {
      "cell_type": "code",
      "execution_count": 1,
      "metadata": {
        "colab": {
          "base_uri": "https://localhost:8080/"
        },
        "id": "IzNAcyOwk2YD",
        "outputId": "1391b752-0cea-46d9-d15d-bcebdff0a1b1"
      },
      "outputs": [
        {
          "output_type": "stream",
          "name": "stdout",
          "text": [
            "The diameter of Earth is 12742 kilometer\n"
          ]
        }
      ],
      "source": [
        "planet = \"Earth\"\n",
        "diameter = 12742\n",
        "\n",
        "print('The diameter of {one} is {two} kilometer'.format(one=planet, two=diameter))"
      ]
    }
  ]
}