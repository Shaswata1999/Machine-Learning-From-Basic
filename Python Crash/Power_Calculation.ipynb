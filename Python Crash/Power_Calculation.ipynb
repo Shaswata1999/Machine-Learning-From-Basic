{
  "nbformat": 4,
  "nbformat_minor": 0,
  "metadata": {
    "colab": {
      "name": "Power Calculation.ipynb",
      "provenance": []
    },
    "kernelspec": {
      "name": "python3",
      "display_name": "Python 3"
    },
    "language_info": {
      "name": "python"
    }
  },
  "cells": [
    {
      "cell_type": "markdown",
      "source": [
        "# **What is the 7 to the power 4 ?**"
      ],
      "metadata": {
        "id": "NXjqcoD2iiOQ"
      }
    },
    {
      "cell_type": "code",
      "execution_count": 1,
      "metadata": {
        "colab": {
          "base_uri": "https://localhost:8080/"
        },
        "id": "cNLWeEIJa-Z4",
        "outputId": "4beea80c-5f91-4e0e-ccfb-d80a4684a055"
      },
      "outputs": [
        {
          "output_type": "execute_result",
          "data": {
            "text/plain": [
              "2401"
            ]
          },
          "metadata": {},
          "execution_count": 1
        }
      ],
      "source": [
        "def cal(num):\n",
        "  return num**4\n",
        "cal(7)"
      ]
    }
  ]
}