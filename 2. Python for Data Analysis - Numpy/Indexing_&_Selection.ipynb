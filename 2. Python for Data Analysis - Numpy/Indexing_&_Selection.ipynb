{
  "nbformat": 4,
  "nbformat_minor": 0,
  "metadata": {
    "colab": {
      "name": "Indexing & Selection.ipynb",
      "provenance": []
    },
    "kernelspec": {
      "name": "python3",
      "display_name": "Python 3"
    },
    "language_info": {
      "name": "python"
    }
  },
  "cells": [
    {
      "cell_type": "markdown",
      "source": [
        "# **Numpy Indexing and Selection**"
      ],
      "metadata": {
        "id": "5qOnMtNxTsK1"
      }
    },
    {
      "cell_type": "code",
      "execution_count": 5,
      "metadata": {
        "id": "XjJNg2FXTjoN"
      },
      "outputs": [],
      "source": [
        "import numpy as np"
      ]
    },
    {
      "cell_type": "markdown",
      "source": [
        "**Create an 2D array**"
      ],
      "metadata": {
        "id": "uOM2Sb8dTyxM"
      }
    },
    {
      "cell_type": "code",
      "source": [
        "arr = np.arange(1,26).reshape(5,5)\n",
        "arr"
      ],
      "metadata": {
        "colab": {
          "base_uri": "https://localhost:8080/"
        },
        "id": "PgUfCJQsT_jk",
        "outputId": "a9e9030d-2f4f-4e6c-8ed3-c8f1d2f7e108"
      },
      "execution_count": 6,
      "outputs": [
        {
          "output_type": "execute_result",
          "data": {
            "text/plain": [
              "array([[ 1,  2,  3,  4,  5],\n",
              "       [ 6,  7,  8,  9, 10],\n",
              "       [11, 12, 13, 14, 15],\n",
              "       [16, 17, 18, 19, 20],\n",
              "       [21, 22, 23, 24, 25]])"
            ]
          },
          "metadata": {},
          "execution_count": 6
        }
      ]
    },
    {
      "cell_type": "markdown",
      "source": [
        "**Output will be :** \n",
        "                    **array([12, 13, 14, 15]**\n",
        "                          **[17, 18, 19, 20])**\n",
        "                          **[22, 23, 24, 25]**\n",
        "\n",
        "---\n",
        "\n"
      ],
      "metadata": {
        "id": "zowuvwiLUT2b"
      }
    },
    {
      "cell_type": "code",
      "source": [
        "arr[2:,1:]"
      ],
      "metadata": {
        "colab": {
          "base_uri": "https://localhost:8080/"
        },
        "id": "Pb5oP_5YVN7H",
        "outputId": "145523d8-9fb7-4cb2-bc15-b4bdc6210d55"
      },
      "execution_count": 12,
      "outputs": [
        {
          "output_type": "execute_result",
          "data": {
            "text/plain": [
              "array([[12, 13, 14, 15],\n",
              "       [17, 18, 19, 20],\n",
              "       [22, 23, 24, 25]])"
            ]
          },
          "metadata": {},
          "execution_count": 12
        }
      ]
    },
    {
      "cell_type": "markdown",
      "source": [
        "**Output will be :** \n",
        "                    **array([2]**\n",
        "                          **[7])**\n",
        "                          **[12]**"
      ],
      "metadata": {
        "id": "bYkBtqzSl6Ys"
      }
    },
    {
      "cell_type": "code",
      "source": [
        "arr[0:3,1:2]"
      ],
      "metadata": {
        "colab": {
          "base_uri": "https://localhost:8080/"
        },
        "id": "GzkXZeR6mB0M",
        "outputId": "c3863ceb-9403-4993-c736-600782030c8c"
      },
      "execution_count": 21,
      "outputs": [
        {
          "output_type": "execute_result",
          "data": {
            "text/plain": [
              "array([[ 2],\n",
              "       [ 7],\n",
              "       [12]])"
            ]
          },
          "metadata": {},
          "execution_count": 21
        }
      ]
    },
    {
      "cell_type": "markdown",
      "source": [
        "**Output will be :** \n",
        "                    **array(**\n",
        "                          **[21, 22, 23, 24, 25])**"
      ],
      "metadata": {
        "id": "ua-mzOAtm0rj"
      }
    },
    {
      "cell_type": "code",
      "source": [
        "arr[4:,:]"
      ],
      "metadata": {
        "colab": {
          "base_uri": "https://localhost:8080/"
        },
        "id": "wXOWyVnam8YH",
        "outputId": "f138fa39-5536-45ca-94e1-e642034898fa"
      },
      "execution_count": 25,
      "outputs": [
        {
          "output_type": "execute_result",
          "data": {
            "text/plain": [
              "array([[21, 22, 23, 24, 25]])"
            ]
          },
          "metadata": {},
          "execution_count": 25
        }
      ]
    },
    {
      "cell_type": "markdown",
      "source": [
        "**Output will be :** \n",
        "                    **array(**\n",
        "                          **[16, 17, 18, 19, 20])**\n",
        "                          **[21, 22, 23, 24, 25]**"
      ],
      "metadata": {
        "id": "8xu1MrjInXmX"
      }
    },
    {
      "cell_type": "code",
      "source": [
        "arr[3:,:]"
      ],
      "metadata": {
        "colab": {
          "base_uri": "https://localhost:8080/"
        },
        "id": "zTk1fogsneMc",
        "outputId": "0c65a2e9-b59d-41ed-a9cc-eb4598c43b4a"
      },
      "execution_count": 26,
      "outputs": [
        {
          "output_type": "execute_result",
          "data": {
            "text/plain": [
              "array([[16, 17, 18, 19, 20],\n",
              "       [21, 22, 23, 24, 25]])"
            ]
          },
          "metadata": {},
          "execution_count": 26
        }
      ]
    },
    {
      "cell_type": "markdown",
      "source": [
        "**Get the sum of all the values in arr**"
      ],
      "metadata": {
        "id": "2TszWUg-npqj"
      }
    },
    {
      "cell_type": "code",
      "source": [
        "np.sum(arr)"
      ],
      "metadata": {
        "colab": {
          "base_uri": "https://localhost:8080/"
        },
        "id": "Pl00vjr0n1FL",
        "outputId": "eeddcb8f-57c6-4d5f-8cef-00083cb1bd23"
      },
      "execution_count": 27,
      "outputs": [
        {
          "output_type": "execute_result",
          "data": {
            "text/plain": [
              "325"
            ]
          },
          "metadata": {},
          "execution_count": 27
        }
      ]
    },
    {
      "cell_type": "markdown",
      "source": [
        "**Get the standard devition of the values in arr**"
      ],
      "metadata": {
        "id": "a07TvYiZn_DE"
      }
    },
    {
      "cell_type": "code",
      "source": [
        "arr.std()"
      ],
      "metadata": {
        "colab": {
          "base_uri": "https://localhost:8080/"
        },
        "id": "x-1x1icSoHPb",
        "outputId": "a8920a15-52e4-424d-dee5-1cf7aa0944df"
      },
      "execution_count": 28,
      "outputs": [
        {
          "output_type": "execute_result",
          "data": {
            "text/plain": [
              "7.211102550927978"
            ]
          },
          "metadata": {},
          "execution_count": 28
        }
      ]
    },
    {
      "cell_type": "markdown",
      "source": [
        "**get sum of all the columns in arr**"
      ],
      "metadata": {
        "id": "byF2GsE3oTD7"
      }
    },
    {
      "cell_type": "code",
      "source": [
        "arr.sum(axis=0)"
      ],
      "metadata": {
        "colab": {
          "base_uri": "https://localhost:8080/"
        },
        "id": "f_9Mh10boYgo",
        "outputId": "a0558cb6-fd22-4dc3-a4ac-953e09609811"
      },
      "execution_count": 29,
      "outputs": [
        {
          "output_type": "execute_result",
          "data": {
            "text/plain": [
              "array([55, 60, 65, 70, 75])"
            ]
          },
          "metadata": {},
          "execution_count": 29
        }
      ]
    }
  ]
}